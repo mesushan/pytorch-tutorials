{
 "cells": [
  {
   "cell_type": "code",
   "execution_count": 29,
   "metadata": {
    "execution": {
     "iopub.execute_input": "2020-08-02T10:12:06.029300Z",
     "iopub.status.busy": "2020-08-02T10:12:06.028977Z",
     "iopub.status.idle": "2020-08-02T10:12:06.042684Z",
     "shell.execute_reply": "2020-08-02T10:12:06.039199Z",
     "shell.execute_reply.started": "2020-08-02T10:12:06.029263Z"
    }
   },
   "outputs": [],
   "source": [
    "import torch\n",
    "import numpy as np"
   ]
  },
  {
   "cell_type": "code",
   "execution_count": 2,
   "metadata": {
    "execution": {
     "iopub.execute_input": "2020-08-02T09:58:27.839574Z",
     "iopub.status.busy": "2020-08-02T09:58:27.839306Z",
     "iopub.status.idle": "2020-08-02T09:58:27.851443Z",
     "shell.execute_reply": "2020-08-02T09:58:27.850319Z",
     "shell.execute_reply.started": "2020-08-02T09:58:27.839530Z"
    }
   },
   "outputs": [
    {
     "name": "stdout",
     "output_type": "stream",
     "text": [
      "tensor([0., 0., 0.])\n"
     ]
    }
   ],
   "source": [
    "#1D vector with 3 elements\n",
    "x = torch.empty(3)\n",
    "print(x)"
   ]
  },
  {
   "cell_type": "code",
   "execution_count": 3,
   "metadata": {
    "execution": {
     "iopub.execute_input": "2020-08-02T09:58:27.855402Z",
     "iopub.status.busy": "2020-08-02T09:58:27.854038Z",
     "iopub.status.idle": "2020-08-02T09:58:27.876788Z",
     "shell.execute_reply": "2020-08-02T09:58:27.867835Z",
     "shell.execute_reply.started": "2020-08-02T09:58:27.855199Z"
    }
   },
   "outputs": [
    {
     "name": "stdout",
     "output_type": "stream",
     "text": [
      "tensor([[0.0000e+00, 0.0000e+00, 2.1550e-14],\n",
      "        [1.4013e-45,        nan, 0.0000e+00]])\n"
     ]
    }
   ],
   "source": [
    "#2D matrix\n",
    "x = torch.empty(2,3)\n",
    "print(x)"
   ]
  },
  {
   "cell_type": "code",
   "execution_count": 4,
   "metadata": {
    "execution": {
     "iopub.execute_input": "2020-08-02T09:58:27.878844Z",
     "iopub.status.busy": "2020-08-02T09:58:27.878389Z",
     "iopub.status.idle": "2020-08-02T09:58:27.893522Z",
     "shell.execute_reply": "2020-08-02T09:58:27.889057Z",
     "shell.execute_reply.started": "2020-08-02T09:58:27.878671Z"
    }
   },
   "outputs": [
    {
     "name": "stdout",
     "output_type": "stream",
     "text": [
      "tensor([[[0., 0., 0.],\n",
      "         [0., 0., 0.]],\n",
      "\n",
      "        [[0., 0., 0.],\n",
      "         [0., 0., 0.]]])\n"
     ]
    }
   ],
   "source": [
    "#3D matrix\n",
    "x = torch.empty(2,2,3)\n",
    "print(x)"
   ]
  },
  {
   "cell_type": "code",
   "execution_count": 5,
   "metadata": {
    "execution": {
     "iopub.execute_input": "2020-08-02T09:58:27.896485Z",
     "iopub.status.busy": "2020-08-02T09:58:27.895966Z",
     "iopub.status.idle": "2020-08-02T09:58:27.906084Z",
     "shell.execute_reply": "2020-08-02T09:58:27.905132Z",
     "shell.execute_reply.started": "2020-08-02T09:58:27.896428Z"
    }
   },
   "outputs": [
    {
     "name": "stdout",
     "output_type": "stream",
     "text": [
      "tensor([[[[1.4013e-44, 0.0000e+00, 0.0000e+00],\n",
      "          [0.0000e+00, 0.0000e+00, 0.0000e+00]],\n",
      "\n",
      "         [[0.0000e+00, 0.0000e+00, 0.0000e+00],\n",
      "          [0.0000e+00, 0.0000e+00, 0.0000e+00]]],\n",
      "\n",
      "\n",
      "        [[[0.0000e+00, 0.0000e+00, 0.0000e+00],\n",
      "          [0.0000e+00, 0.0000e+00, 0.0000e+00]],\n",
      "\n",
      "         [[0.0000e+00, 0.0000e+00, 0.0000e+00],\n",
      "          [0.0000e+00, 0.0000e+00, 0.0000e+00]]]])\n"
     ]
    }
   ],
   "source": [
    "#4D matrix\n",
    "x = torch.empty(2,2,2,3)\n",
    "print(x)"
   ]
  },
  {
   "cell_type": "code",
   "execution_count": 6,
   "metadata": {
    "execution": {
     "iopub.execute_input": "2020-08-02T09:58:27.908057Z",
     "iopub.status.busy": "2020-08-02T09:58:27.907592Z",
     "iopub.status.idle": "2020-08-02T09:58:27.920058Z",
     "shell.execute_reply": "2020-08-02T09:58:27.918023Z",
     "shell.execute_reply.started": "2020-08-02T09:58:27.908007Z"
    }
   },
   "outputs": [
    {
     "data": {
      "text/plain": [
       "tensor([[0.1545, 0.5412, 0.2547],\n",
       "        [0.9662, 0.5861, 0.6257]])"
      ]
     },
     "execution_count": 6,
     "metadata": {},
     "output_type": "execute_result"
    }
   ],
   "source": [
    "#tensor with random values\n",
    "x = torch.rand(2,3)\n",
    "x"
   ]
  },
  {
   "cell_type": "code",
   "execution_count": 7,
   "metadata": {
    "execution": {
     "iopub.execute_input": "2020-08-02T09:58:27.921809Z",
     "iopub.status.busy": "2020-08-02T09:58:27.921446Z",
     "iopub.status.idle": "2020-08-02T09:58:27.931801Z",
     "shell.execute_reply": "2020-08-02T09:58:27.930353Z",
     "shell.execute_reply.started": "2020-08-02T09:58:27.921769Z"
    }
   },
   "outputs": [
    {
     "data": {
      "text/plain": [
       "tensor([[0., 0.],\n",
       "        [0., 0.]])"
      ]
     },
     "execution_count": 7,
     "metadata": {},
     "output_type": "execute_result"
    }
   ],
   "source": [
    "#tensor with all zeros\n",
    "x = torch.zeros(2,2)\n",
    "x"
   ]
  },
  {
   "cell_type": "code",
   "execution_count": 8,
   "metadata": {
    "execution": {
     "iopub.execute_input": "2020-08-02T09:58:27.935487Z",
     "iopub.status.busy": "2020-08-02T09:58:27.934750Z",
     "iopub.status.idle": "2020-08-02T09:58:27.944740Z",
     "shell.execute_reply": "2020-08-02T09:58:27.943191Z",
     "shell.execute_reply.started": "2020-08-02T09:58:27.935367Z"
    }
   },
   "outputs": [
    {
     "data": {
      "text/plain": [
       "torch.float32"
      ]
     },
     "execution_count": 8,
     "metadata": {},
     "output_type": "execute_result"
    }
   ],
   "source": [
    "#by default torch will be in float\n",
    "x.dtype"
   ]
  },
  {
   "cell_type": "code",
   "execution_count": 9,
   "metadata": {
    "execution": {
     "iopub.execute_input": "2020-08-02T09:58:27.947011Z",
     "iopub.status.busy": "2020-08-02T09:58:27.946448Z",
     "iopub.status.idle": "2020-08-02T09:58:27.956807Z",
     "shell.execute_reply": "2020-08-02T09:58:27.955579Z",
     "shell.execute_reply.started": "2020-08-02T09:58:27.946949Z"
    }
   },
   "outputs": [
    {
     "data": {
      "text/plain": [
       "tensor([[1, 1],\n",
       "        [1, 1]], dtype=torch.int32)"
      ]
     },
     "execution_count": 9,
     "metadata": {},
     "output_type": "execute_result"
    }
   ],
   "source": [
    "#changing to other format\n",
    "x = torch.ones(2,2, dtype=torch.int)\n",
    "x"
   ]
  },
  {
   "cell_type": "code",
   "execution_count": 10,
   "metadata": {
    "execution": {
     "iopub.execute_input": "2020-08-02T09:58:27.958884Z",
     "iopub.status.busy": "2020-08-02T09:58:27.958570Z",
     "iopub.status.idle": "2020-08-02T09:58:27.967094Z",
     "shell.execute_reply": "2020-08-02T09:58:27.965384Z",
     "shell.execute_reply.started": "2020-08-02T09:58:27.958837Z"
    }
   },
   "outputs": [
    {
     "data": {
      "text/plain": [
       "torch.Size([2, 2])"
      ]
     },
     "execution_count": 10,
     "metadata": {},
     "output_type": "execute_result"
    }
   ],
   "source": [
    "#size of tensor\n",
    "x.size()"
   ]
  },
  {
   "cell_type": "code",
   "execution_count": 11,
   "metadata": {
    "execution": {
     "iopub.execute_input": "2020-08-02T09:58:27.969713Z",
     "iopub.status.busy": "2020-08-02T09:58:27.969260Z",
     "iopub.status.idle": "2020-08-02T09:58:27.977958Z",
     "shell.execute_reply": "2020-08-02T09:58:27.976772Z",
     "shell.execute_reply.started": "2020-08-02T09:58:27.969665Z"
    }
   },
   "outputs": [
    {
     "data": {
      "text/plain": [
       "tensor([1.0000, 2.3000])"
      ]
     },
     "execution_count": 11,
     "metadata": {},
     "output_type": "execute_result"
    }
   ],
   "source": [
    "#tensor from python list\n",
    "x = torch.tensor([1,2.3])\n",
    "x"
   ]
  },
  {
   "cell_type": "markdown",
   "metadata": {},
   "source": [
    "## Basic Operations of Tensors"
   ]
  },
  {
   "cell_type": "code",
   "execution_count": 12,
   "metadata": {
    "execution": {
     "iopub.execute_input": "2020-08-02T09:58:27.980102Z",
     "iopub.status.busy": "2020-08-02T09:58:27.979646Z",
     "iopub.status.idle": "2020-08-02T09:58:27.986987Z",
     "shell.execute_reply": "2020-08-02T09:58:27.985334Z",
     "shell.execute_reply.started": "2020-08-02T09:58:27.980045Z"
    }
   },
   "outputs": [],
   "source": [
    "x = torch.rand(2,3)\n",
    "y = torch.rand(2,3)"
   ]
  },
  {
   "cell_type": "code",
   "execution_count": 13,
   "metadata": {
    "execution": {
     "iopub.execute_input": "2020-08-02T09:58:27.988682Z",
     "iopub.status.busy": "2020-08-02T09:58:27.988294Z",
     "iopub.status.idle": "2020-08-02T09:58:27.997013Z",
     "shell.execute_reply": "2020-08-02T09:58:27.996091Z",
     "shell.execute_reply.started": "2020-08-02T09:58:27.988633Z"
    }
   },
   "outputs": [
    {
     "name": "stdout",
     "output_type": "stream",
     "text": [
      "tensor([[0.9496, 0.1488, 0.4991],\n",
      "        [0.0047, 0.7385, 0.3413]])\n",
      "tensor([[0.8307, 0.2648, 0.3971],\n",
      "        [0.1173, 0.6212, 0.1402]])\n"
     ]
    }
   ],
   "source": [
    "print(x)\n",
    "print(y)"
   ]
  },
  {
   "cell_type": "code",
   "execution_count": 14,
   "metadata": {
    "execution": {
     "iopub.execute_input": "2020-08-02T09:58:27.998907Z",
     "iopub.status.busy": "2020-08-02T09:58:27.998282Z",
     "iopub.status.idle": "2020-08-02T09:58:28.021739Z",
     "shell.execute_reply": "2020-08-02T09:58:28.020665Z",
     "shell.execute_reply.started": "2020-08-02T09:58:27.998844Z"
    }
   },
   "outputs": [
    {
     "data": {
      "text/plain": [
       "tensor([[1.7802, 0.4136, 0.8962],\n",
       "        [0.1220, 1.3596, 0.4816]])"
      ]
     },
     "execution_count": 14,
     "metadata": {},
     "output_type": "execute_result"
    }
   ],
   "source": [
    "#sum\n",
    "z = x + y\n",
    "z"
   ]
  },
  {
   "cell_type": "code",
   "execution_count": 15,
   "metadata": {
    "execution": {
     "iopub.execute_input": "2020-08-02T09:58:28.024306Z",
     "iopub.status.busy": "2020-08-02T09:58:28.022978Z",
     "iopub.status.idle": "2020-08-02T09:58:28.033749Z",
     "shell.execute_reply": "2020-08-02T09:58:28.032533Z",
     "shell.execute_reply.started": "2020-08-02T09:58:28.024241Z"
    }
   },
   "outputs": [
    {
     "data": {
      "text/plain": [
       "tensor([[1.7802, 0.4136, 0.8962],\n",
       "        [0.1220, 1.3596, 0.4816]])"
      ]
     },
     "execution_count": 15,
     "metadata": {},
     "output_type": "execute_result"
    }
   ],
   "source": [
    "#another way of adding\n",
    "z = torch.add(x,y)\n",
    "z"
   ]
  },
  {
   "cell_type": "code",
   "execution_count": 16,
   "metadata": {
    "execution": {
     "iopub.execute_input": "2020-08-02T09:58:28.035361Z",
     "iopub.status.busy": "2020-08-02T09:58:28.034996Z",
     "iopub.status.idle": "2020-08-02T09:58:28.044364Z",
     "shell.execute_reply": "2020-08-02T09:58:28.042625Z",
     "shell.execute_reply.started": "2020-08-02T09:58:28.035313Z"
    }
   },
   "outputs": [
    {
     "name": "stdout",
     "output_type": "stream",
     "text": [
      "tensor([[1.7802, 0.4136, 0.8962],\n",
      "        [0.1220, 1.3596, 0.4816]])\n"
     ]
    }
   ],
   "source": [
    "#can also do inplace addition (trailing underscore (_) is always inplace in pytorch) !!!\n",
    "y.add_(x)\n",
    "print(y)"
   ]
  },
  {
   "cell_type": "code",
   "execution_count": 17,
   "metadata": {
    "execution": {
     "iopub.execute_input": "2020-08-02T09:58:28.045694Z",
     "iopub.status.busy": "2020-08-02T09:58:28.045447Z",
     "iopub.status.idle": "2020-08-02T09:58:28.067347Z",
     "shell.execute_reply": "2020-08-02T09:58:28.065441Z",
     "shell.execute_reply.started": "2020-08-02T09:58:28.045664Z"
    }
   },
   "outputs": [
    {
     "data": {
      "text/plain": [
       "tensor([[-0.8307, -0.2648, -0.3971],\n",
       "        [-0.1173, -0.6212, -0.1402]])"
      ]
     },
     "execution_count": 17,
     "metadata": {},
     "output_type": "execute_result"
    }
   ],
   "source": [
    "#subtract\n",
    "z = x - y \n",
    "#z = torch.sub(x,y)\n",
    "z"
   ]
  },
  {
   "cell_type": "code",
   "execution_count": 18,
   "metadata": {
    "execution": {
     "iopub.execute_input": "2020-08-02T09:58:28.069456Z",
     "iopub.status.busy": "2020-08-02T09:58:28.069069Z",
     "iopub.status.idle": "2020-08-02T09:58:28.078130Z",
     "shell.execute_reply": "2020-08-02T09:58:28.077007Z",
     "shell.execute_reply.started": "2020-08-02T09:58:28.069413Z"
    }
   },
   "outputs": [
    {
     "name": "stdout",
     "output_type": "stream",
     "text": [
      "tensor([[0.9496, 0.1488, 0.4991],\n",
      "        [0.0047, 0.7385, 0.3413]])\n"
     ]
    }
   ],
   "source": [
    "#multiplication\n",
    "z = torch.mul(x,y)\n",
    "print(x)"
   ]
  },
  {
   "cell_type": "code",
   "execution_count": 19,
   "metadata": {
    "execution": {
     "iopub.execute_input": "2020-08-02T09:58:28.080032Z",
     "iopub.status.busy": "2020-08-02T09:58:28.079659Z",
     "iopub.status.idle": "2020-08-02T09:58:28.088247Z",
     "shell.execute_reply": "2020-08-02T09:58:28.086572Z",
     "shell.execute_reply.started": "2020-08-02T09:58:28.079989Z"
    }
   },
   "outputs": [
    {
     "name": "stdout",
     "output_type": "stream",
     "text": [
      "tensor([[0.5334, 0.3597, 0.5569],\n",
      "        [0.0383, 0.5431, 0.7088]])\n"
     ]
    }
   ],
   "source": [
    "#division\n",
    "z = torch.div(x,y)\n",
    "print(z)"
   ]
  },
  {
   "cell_type": "markdown",
   "metadata": {},
   "source": [
    "##### All the operations above happens elementwise :)"
   ]
  },
  {
   "cell_type": "markdown",
   "metadata": {},
   "source": [
    "### Slicing the tensor"
   ]
  },
  {
   "cell_type": "code",
   "execution_count": 20,
   "metadata": {
    "execution": {
     "iopub.execute_input": "2020-08-02T09:58:28.090386Z",
     "iopub.status.busy": "2020-08-02T09:58:28.089899Z",
     "iopub.status.idle": "2020-08-02T09:58:28.109450Z",
     "shell.execute_reply": "2020-08-02T09:58:28.108547Z",
     "shell.execute_reply.started": "2020-08-02T09:58:28.090327Z"
    }
   },
   "outputs": [
    {
     "name": "stdout",
     "output_type": "stream",
     "text": [
      "tensor([[0.8994, 0.9301, 0.5184],\n",
      "        [0.5416, 0.0575, 0.7610],\n",
      "        [0.6401, 0.4765, 0.1166],\n",
      "        [0.3873, 0.5879, 0.1661],\n",
      "        [0.1986, 0.8870, 0.4515]])\n",
      "tensor([0.9301, 0.0575, 0.4765, 0.5879, 0.8870])\n",
      "tensor([0.5416, 0.0575, 0.7610])\n",
      "tensor(0.0575)\n",
      "0.05745077133178711\n"
     ]
    }
   ],
   "source": [
    "#slicing in torch\n",
    "x = torch.rand(5,3)\n",
    "print(x)\n",
    "print(x[:,1])\n",
    "print(x[1,:])\n",
    "print(x[1,1])\n",
    "\n",
    "#if there is tensor with only one element, we can use .item() to retrieve the actual value\n",
    "print(x[1,1].item())"
   ]
  },
  {
   "cell_type": "markdown",
   "metadata": {},
   "source": [
    "### Reshaping the tensor"
   ]
  },
  {
   "cell_type": "code",
   "execution_count": 24,
   "metadata": {
    "execution": {
     "iopub.execute_input": "2020-08-02T10:06:03.971392Z",
     "iopub.status.busy": "2020-08-02T10:06:03.971078Z",
     "iopub.status.idle": "2020-08-02T10:06:03.983562Z",
     "shell.execute_reply": "2020-08-02T10:06:03.982699Z",
     "shell.execute_reply.started": "2020-08-02T10:06:03.971356Z"
    }
   },
   "outputs": [
    {
     "name": "stdout",
     "output_type": "stream",
     "text": [
      "tensor([[0.4106, 0.3963, 0.9147, 0.1384],\n",
      "        [0.1638, 0.0565, 0.7471, 0.0635],\n",
      "        [0.9962, 0.0039, 0.9119, 0.1237],\n",
      "        [0.9958, 0.6509, 0.7697, 0.6472]])\n",
      "\n",
      "tensor([0.4106, 0.3963, 0.9147, 0.1384, 0.1638, 0.0565, 0.7471, 0.0635, 0.9962,\n",
      "        0.0039, 0.9119, 0.1237, 0.9958, 0.6509, 0.7697, 0.6472])\n",
      "torch.Size([16])\n",
      "\n",
      "tensor([[0.4106, 0.3963, 0.9147, 0.1384, 0.1638, 0.0565, 0.7471, 0.0635],\n",
      "        [0.9962, 0.0039, 0.9119, 0.1237, 0.9958, 0.6509, 0.7697, 0.6472]])\n",
      "torch.Size([2, 8])\n"
     ]
    }
   ],
   "source": [
    "x = torch.rand(4,4)\n",
    "print(x)\n",
    "print()\n",
    "y = x.view(16)\n",
    "print(y)\n",
    "print(y.size())\n",
    "print()\n",
    "y = x.view(-1, 8)\n",
    "print(y)\n",
    "print(y.size())"
   ]
  },
  {
   "cell_type": "code",
   "execution_count": 25,
   "metadata": {
    "execution": {
     "iopub.execute_input": "2020-08-02T10:09:30.757207Z",
     "iopub.status.busy": "2020-08-02T10:09:30.756718Z",
     "iopub.status.idle": "2020-08-02T10:09:30.765911Z",
     "shell.execute_reply": "2020-08-02T10:09:30.764549Z",
     "shell.execute_reply.started": "2020-08-02T10:09:30.757150Z"
    }
   },
   "outputs": [
    {
     "name": "stdout",
     "output_type": "stream",
     "text": [
      "tensor([[1.0000, 0.3963, 0.9147, 0.1384, 0.1638, 0.0565, 0.7471, 0.0635],\n",
      "        [0.9962, 0.0039, 0.9119, 0.1237, 0.9958, 0.6509, 0.7697, 0.6472]])\n"
     ]
    }
   ],
   "source": [
    "y[0][0] = 1\n",
    "print(y)"
   ]
  },
  {
   "cell_type": "code",
   "execution_count": 26,
   "metadata": {
    "execution": {
     "iopub.execute_input": "2020-08-02T10:09:41.205150Z",
     "iopub.status.busy": "2020-08-02T10:09:41.204755Z",
     "iopub.status.idle": "2020-08-02T10:09:41.219350Z",
     "shell.execute_reply": "2020-08-02T10:09:41.212696Z",
     "shell.execute_reply.started": "2020-08-02T10:09:41.205105Z"
    }
   },
   "outputs": [
    {
     "name": "stdout",
     "output_type": "stream",
     "text": [
      "tensor([[1.0000, 0.3963, 0.9147, 0.1384],\n",
      "        [0.1638, 0.0565, 0.7471, 0.0635],\n",
      "        [0.9962, 0.0039, 0.9119, 0.1237],\n",
      "        [0.9958, 0.6509, 0.7697, 0.6472]])\n"
     ]
    }
   ],
   "source": [
    "print(x)"
   ]
  },
  {
   "cell_type": "code",
   "execution_count": 28,
   "metadata": {
    "execution": {
     "iopub.execute_input": "2020-08-02T10:10:56.314826Z",
     "iopub.status.busy": "2020-08-02T10:10:56.314358Z",
     "iopub.status.idle": "2020-08-02T10:10:56.320888Z",
     "shell.execute_reply": "2020-08-02T10:10:56.318914Z",
     "shell.execute_reply.started": "2020-08-02T10:10:56.314752Z"
    }
   },
   "outputs": [],
   "source": [
    "### change in value of y also changes in x -> good to notice that"
   ]
  },
  {
   "cell_type": "markdown",
   "metadata": {},
   "source": [
    "### Converting numpy to torch and vice versa"
   ]
  },
  {
   "cell_type": "code",
   "execution_count": 33,
   "metadata": {
    "execution": {
     "iopub.execute_input": "2020-08-02T10:13:28.697021Z",
     "iopub.status.busy": "2020-08-02T10:13:28.696708Z",
     "iopub.status.idle": "2020-08-02T10:13:28.707666Z",
     "shell.execute_reply": "2020-08-02T10:13:28.706393Z",
     "shell.execute_reply.started": "2020-08-02T10:13:28.696983Z"
    }
   },
   "outputs": [
    {
     "data": {
      "text/plain": [
       "tensor([1., 1., 1., 1., 1.])"
      ]
     },
     "execution_count": 33,
     "metadata": {},
     "output_type": "execute_result"
    }
   ],
   "source": [
    "a = torch.ones(5)\n",
    "a"
   ]
  },
  {
   "cell_type": "code",
   "execution_count": 34,
   "metadata": {
    "execution": {
     "iopub.execute_input": "2020-08-02T10:13:33.375838Z",
     "iopub.status.busy": "2020-08-02T10:13:33.375525Z",
     "iopub.status.idle": "2020-08-02T10:13:33.386056Z",
     "shell.execute_reply": "2020-08-02T10:13:33.384773Z",
     "shell.execute_reply.started": "2020-08-02T10:13:33.375803Z"
    }
   },
   "outputs": [
    {
     "data": {
      "text/plain": [
       "array([1., 1., 1., 1., 1.], dtype=float32)"
      ]
     },
     "execution_count": 34,
     "metadata": {},
     "output_type": "execute_result"
    }
   ],
   "source": [
    "b = a.numpy()\n",
    "b"
   ]
  },
  {
   "cell_type": "markdown",
   "metadata": {
    "execution": {
     "iopub.execute_input": "2020-08-02T10:17:38.528315Z",
     "iopub.status.busy": "2020-08-02T10:17:38.527874Z",
     "iopub.status.idle": "2020-08-02T10:17:38.534015Z",
     "shell.execute_reply": "2020-08-02T10:17:38.532496Z",
     "shell.execute_reply.started": "2020-08-02T10:17:38.528262Z"
    }
   },
   "source": [
    "##### If the tensor is in CPU and not in GPU, both objects shares the same memory location, so changing one will also change the other. -> This is becoz numpy can handle only CPU tensors."
   ]
  },
  {
   "cell_type": "code",
   "execution_count": 36,
   "metadata": {
    "execution": {
     "iopub.execute_input": "2020-08-02T10:22:57.650477Z",
     "iopub.status.busy": "2020-08-02T10:22:57.650083Z",
     "iopub.status.idle": "2020-08-02T10:22:57.664393Z",
     "shell.execute_reply": "2020-08-02T10:22:57.661798Z",
     "shell.execute_reply.started": "2020-08-02T10:22:57.650417Z"
    }
   },
   "outputs": [
    {
     "name": "stdout",
     "output_type": "stream",
     "text": [
      "tensor([2., 2., 2., 2., 2.])\n",
      "[2. 2. 2. 2. 2.]\n"
     ]
    }
   ],
   "source": [
    "a.add_(1)\n",
    "print(a)\n",
    "print(b)"
   ]
  },
  {
   "cell_type": "code",
   "execution_count": 37,
   "metadata": {
    "execution": {
     "iopub.execute_input": "2020-08-02T10:23:43.070492Z",
     "iopub.status.busy": "2020-08-02T10:23:43.070189Z",
     "iopub.status.idle": "2020-08-02T10:23:43.090493Z",
     "shell.execute_reply": "2020-08-02T10:23:43.085471Z",
     "shell.execute_reply.started": "2020-08-02T10:23:43.070455Z"
    }
   },
   "outputs": [
    {
     "data": {
      "text/plain": [
       "array([1., 1., 1., 1., 1.])"
      ]
     },
     "execution_count": 37,
     "metadata": {},
     "output_type": "execute_result"
    }
   ],
   "source": [
    "a = np.ones(5)\n",
    "a"
   ]
  },
  {
   "cell_type": "code",
   "execution_count": 38,
   "metadata": {
    "execution": {
     "iopub.execute_input": "2020-08-02T10:24:00.641877Z",
     "iopub.status.busy": "2020-08-02T10:24:00.641546Z",
     "iopub.status.idle": "2020-08-02T10:24:00.667796Z",
     "shell.execute_reply": "2020-08-02T10:24:00.665280Z",
     "shell.execute_reply.started": "2020-08-02T10:24:00.641839Z"
    }
   },
   "outputs": [
    {
     "data": {
      "text/plain": [
       "tensor([1., 1., 1., 1., 1.], dtype=torch.float64)"
      ]
     },
     "execution_count": 38,
     "metadata": {},
     "output_type": "execute_result"
    }
   ],
   "source": [
    "b = torch.from_numpy(a)\n",
    "b"
   ]
  },
  {
   "cell_type": "code",
   "execution_count": 40,
   "metadata": {
    "execution": {
     "iopub.execute_input": "2020-08-02T10:28:33.536938Z",
     "iopub.status.busy": "2020-08-02T10:28:33.536641Z",
     "iopub.status.idle": "2020-08-02T10:28:33.547198Z",
     "shell.execute_reply": "2020-08-02T10:28:33.545980Z",
     "shell.execute_reply.started": "2020-08-02T10:28:33.536904Z"
    }
   },
   "outputs": [
    {
     "name": "stdout",
     "output_type": "stream",
     "text": [
      "[3. 3. 3. 3. 3.]\n",
      "tensor([3., 3., 3., 3., 3.], dtype=torch.float64)\n"
     ]
    }
   ],
   "source": [
    "a += 1\n",
    "print(a)\n",
    "print(b)"
   ]
  },
  {
   "cell_type": "markdown",
   "metadata": {},
   "source": [
    "#### If you see requires_grad=True in the code, it is specifying pytorch to calcualte the gradient in the optimization stage"
   ]
  },
  {
   "cell_type": "code",
   "execution_count": 41,
   "metadata": {
    "execution": {
     "iopub.execute_input": "2020-08-02T10:29:55.617633Z",
     "iopub.status.busy": "2020-08-02T10:29:55.617201Z",
     "iopub.status.idle": "2020-08-02T10:29:55.629121Z",
     "shell.execute_reply": "2020-08-02T10:29:55.627167Z",
     "shell.execute_reply.started": "2020-08-02T10:29:55.617580Z"
    }
   },
   "outputs": [
    {
     "name": "stdout",
     "output_type": "stream",
     "text": [
      "tensor([1., 1., 1., 1., 1.], requires_grad=True)\n"
     ]
    }
   ],
   "source": [
    "x = torch.ones(5, requires_grad=True)\n",
    "print(x)"
   ]
  },
  {
   "cell_type": "markdown",
   "metadata": {},
   "source": [
    "## Operations if you have GPU and CPU"
   ]
  },
  {
   "cell_type": "code",
   "execution_count": 44,
   "metadata": {
    "execution": {
     "iopub.execute_input": "2020-08-02T10:34:57.519144Z",
     "iopub.status.busy": "2020-08-02T10:34:57.518832Z",
     "iopub.status.idle": "2020-08-02T10:34:57.527804Z",
     "shell.execute_reply": "2020-08-02T10:34:57.526681Z",
     "shell.execute_reply.started": "2020-08-02T10:34:57.519107Z"
    }
   },
   "outputs": [],
   "source": [
    "if torch.cuda.is_available():\n",
    "    device = torch.device('cuda')\n",
    "    x = torch.ones(5, device = device)\n",
    "    \n",
    "    y = torch.ones(5)\n",
    "    y = y.to(device)\n",
    "    \n",
    "    z = x +y #operations in gpu\n",
    "    \n",
    "    z.numpy() #will show error as numpy can't handle gpu computations\n",
    "    \n",
    "    #if you want the gpu tensor back to numpy \n",
    "    z = z.to('cpu')\n",
    "    z.numpy()"
   ]
  }
 ],
 "metadata": {
  "kernelspec": {
   "display_name": "Python 3",
   "language": "python",
   "name": "python3"
  },
  "language_info": {
   "codemirror_mode": {
    "name": "ipython",
    "version": 3
   },
   "file_extension": ".py",
   "mimetype": "text/x-python",
   "name": "python",
   "nbconvert_exporter": "python",
   "pygments_lexer": "ipython3",
   "version": "3.8.3"
  }
 },
 "nbformat": 4,
 "nbformat_minor": 4
}
